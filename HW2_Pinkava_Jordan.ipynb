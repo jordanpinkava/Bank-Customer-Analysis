{
 "cells": [
  {
   "cell_type": "markdown",
   "id": "3ad99683-443b-405c-b3ab-a08bead4655b",
   "metadata": {},
   "source": [
    "# Homework 2: NumPy Arrays"
   ]
  },
  {
   "cell_type": "markdown",
   "id": "3a23fae4-6acd-4eb1-9373-50bd5e0b229e",
   "metadata": {},
   "source": [
    "Name: Jordan Pinkava\n",
    "\n",
    "Course: BMGT404\n",
    "\n",
    "Section: 0202\n",
    "\n",
    "Date: 2/22/2024"
   ]
  },
  {
   "cell_type": "markdown",
   "id": "f9653c93-ab1d-4a49-b52b-b558179af328",
   "metadata": {},
   "source": [
    "### Terp Savings & Loans\n",
    "\n",
    "Terp Savings & Loans is a proud bank for the people of College Park, Maryland. In my new rule as an analyst for this wonderful bank, I am taking a deeper dive into the customer relationship management system to see what our clientele looks like and how we can better serve them. Below I will dissect the customer's backgrounds, spending habits, and more."
   ]
  },
  {
   "cell_type": "markdown",
   "id": "7da467d5-aaa9-4dfe-8754-83e71ec709dc",
   "metadata": {},
   "source": [
    "The first step to understanding my clientele is to obtain the necessary data related to the customers and use specific libraries that will help me dissect the data best. Today, we will use numpy, matplotlib, and seaborn to do so."
   ]
  },
  {
   "cell_type": "code",
   "execution_count": 1,
   "id": "be2dc602-398b-414d-a799-806e3635dd89",
   "metadata": {},
   "outputs": [],
   "source": [
    "#import necessary libraries\n",
    "import numpy as np\n",
    "import matplotlib.pyplot as plt\n",
    "import seaborn as sns"
   ]
  },
  {
   "cell_type": "markdown",
   "id": "e3ff05bf-c806-4f89-bc67-692689dc870d",
   "metadata": {},
   "source": [
    "1. For all customers, load the variables relating to credit limit and revolving balance\n",
    "\n",
    "We want to read in our columns related to credit limit and revolving balance, as that is what I am primarily interested in."
   ]
  },
  {
   "cell_type": "code",
   "execution_count": 2,
   "id": "eb3e3b0a-f54a-438a-a7a5-a71c08a6e385",
   "metadata": {},
   "outputs": [
    {
     "name": "stdout",
     "output_type": "stream",
     "text": [
      "[[12691.   777.]\n",
      " [ 8256.   864.]\n",
      " [ 3418.     0.]\n",
      " ...\n",
      " [ 5409.     0.]\n",
      " [ 5281.     0.]\n",
      " [10388.  1961.]]\n"
     ]
    }
   ],
   "source": [
    "#read in the csv file that contains our credit card info that we are currently analyzing (credit limit and revolving balance)\n",
    "credit_card_data = np.loadtxt(r\"C:\\Users\\jpink\\OneDrive\\Desktop\\BMGT404\\HW2-credit-card-consumers.csv\", skiprows = 1, usecols=(13, 14), delimiter=',')\n",
    "print(credit_card_data)"
   ]
  },
  {
   "cell_type": "markdown",
   "id": "73cd4beb-6abb-4db2-b7a3-3e3be77936af",
   "metadata": {},
   "source": [
    "2. Print the first 5 values for each variable\n",
    "\n",
    "Lets take a look at the first five customers in this dataset! To get a quick view of this, we will slice the top 5 rows in both columns. "
   ]
  },
  {
   "cell_type": "code",
   "execution_count": 3,
   "id": "6fdd8199-5edd-4495-947f-6127c2e8a683",
   "metadata": {},
   "outputs": [
    {
     "name": "stdout",
     "output_type": "stream",
     "text": [
      "The first 5 values for credit limit and revolving balance:\n",
      " Cred. Limit  Revolving Bal.\n",
      " [[12691.   777.]\n",
      " [ 8256.   864.]\n",
      " [ 3418.     0.]\n",
      " [ 3313.  2517.]\n",
      " [ 4716.     0.]]\n"
     ]
    }
   ],
   "source": [
    "#slicing to show only the first 5 rows for both variables\n",
    "first5 = credit_card_data[:5, :]\n",
    "print(f\"The first 5 values for credit limit and revolving balance:\\n Cred. Limit  Revolving Bal.\\n {first5}\")"
   ]
  },
  {
   "cell_type": "markdown",
   "id": "d4e5f1bc-0437-4a4b-b37c-9b61751b6314",
   "metadata": {},
   "source": [
    "3. Using only the data you have just loaded:\n",
    "\n",
    "\n",
    "\n",
    "a. How many customers are represented in the data set?\n",
    "\n",
    "To truly understand Terp Savings & Loans better, we need to know how many people are customers first. Here, I am getting the count of customers in our dataset."
   ]
  },
  {
   "cell_type": "code",
   "execution_count": 4,
   "id": "f773bfa0-6ea4-4ea9-b4d7-b1b32d903c6f",
   "metadata": {},
   "outputs": [
    {
     "name": "stdout",
     "output_type": "stream",
     "text": [
      "Terp Savings & Loans customer count in dataset: 10127\n"
     ]
    }
   ],
   "source": [
    "#find the total count of customers represented in the dataset by using the size method to get the count of one column of data\n",
    "cust_count = (credit_card_data[:, 0].size)\n",
    "print(f'Terp Savings & Loans customer count in dataset: {cust_count}')"
   ]
  },
  {
   "cell_type": "markdown",
   "id": "3d25bf9c-d90d-4974-84d6-a6d1cda6c69d",
   "metadata": {},
   "source": [
    "b. What is the highest credit limit offered to a single customer?\n",
    "\n",
    "To figure out how much credit Terp Savings & Loans is offering, lets take a look at the highest credit limit offered. Good for them!"
   ]
  },
  {
   "cell_type": "code",
   "execution_count": 5,
   "id": "bc01ae95-3260-424d-aab6-ab030d78a03a",
   "metadata": {},
   "outputs": [
    {
     "name": "stdout",
     "output_type": "stream",
     "text": [
      "Highest credit card limit offered through Terp Savings & Loans: $34516.0\n"
     ]
    }
   ],
   "source": [
    "#find the highest credit card limit in the dataset by looking in the credit column and finding the maximum value \n",
    "highest_limit = (credit_card_data[:, 0]).max()\n",
    "print(f'Highest credit card limit offered through Terp Savings & Loans: ${highest_limit}')"
   ]
  },
  {
   "cell_type": "markdown",
   "id": "3f3cb309-2ee3-4185-80d6-ed0f8580129e",
   "metadata": {},
   "source": [
    "c. What is the total credit currently available for use across all customers?\n",
    "\n",
    "Overall, I also want to know just how much credit TS&L offers to our entire customer base. (Hint: it is a lot!)"
   ]
  },
  {
   "cell_type": "code",
   "execution_count": 6,
   "id": "2e08713c-82c7-4767-87f9-22ffb558e559",
   "metadata": {},
   "outputs": [
    {
     "name": "stdout",
     "output_type": "stream",
     "text": [
      "Total credit currently available for all customers: $87415795.1\n"
     ]
    }
   ],
   "source": [
    "#create a variable that finds the total amount of credit available to all customers by grabbing from the credit column and getting the sum of it\n",
    "total_credit = (credit_card_data[:, 0].sum())\n",
    "print(f'Total credit currently available for all customers: ${total_credit}')"
   ]
  },
  {
   "cell_type": "markdown",
   "id": "13594756-1990-4f7b-a733-97b322830bb5",
   "metadata": {},
   "source": [
    "d. What percentage of customers have a revolving balance less than the average revolving balance?\n",
    "\n",
    "I am curious to know the average revolving balance across our customers and how many people have a balance less than the average. Lets see how many of our Terps are small spenders or not."
   ]
  },
  {
   "cell_type": "code",
   "execution_count": 7,
   "id": "315eb07f-9034-47df-824a-f04c13eb73d3",
   "metadata": {},
   "outputs": [
    {
     "name": "stdout",
     "output_type": "stream",
     "text": [
      "Average revolving balance: $1162.81\n",
      "\n",
      "\n",
      "Number of customers that have a revolving balance less than avg: 4522\n",
      "\n",
      "\n",
      "Percentage of customers that have a revolving balance less than the average revolving balance: 25.71%\n",
      "\n",
      "\n"
     ]
    }
   ],
   "source": [
    "#create variables for average balance, number of customers with revolving balance less than the average, and the percentage of that\n",
    "#these variables help us calculate what percentage of customers are small spenders\n",
    "avg_balance = credit_card_data[:, 1].mean() \n",
    "num_cust_less = (credit_card_data[:, 1] < avg_balance).sum()\n",
    "percent = (avg_balance/num_cust_less)*100\n",
    "\n",
    "print(f\"Average revolving balance: ${avg_balance:.2f}\")\n",
    "print(\"\\n\")\n",
    "print(f\"Number of customers that have a revolving balance less than avg: {num_cust_less}\")\n",
    "print(\"\\n\")\n",
    "print(f\"Percentage of customers that have a revolving balance less than the average revolving balance: {percent:.2f}%\")\n",
    "print(\"\\n\")"
   ]
  },
  {
   "cell_type": "markdown",
   "id": "a1f0c9a1-cc43-4662-aa36-8da739fe7785",
   "metadata": {},
   "source": [
    "From this point forward, you will need to review the data set to complete the remaining tasks. Hint: As you\n",
    "are loading data, make sure you pay attention to the various function arguments available to you (covered\n",
    "in lecture). Also note there is not just one \"right\" answer to many of these tasks. You are being graded on\n",
    "your ability to provide data-driven analysis.\n",
    "\n",
    "Going forward, I am going to be taking data from many different variables in the dataset. To make my analyses easier and more efficient, I created a function to easily get the column of interest when loading in my data. "
   ]
  },
  {
   "cell_type": "code",
   "execution_count": 8,
   "id": "e528c2b2-a199-4537-acce-568669fb2117",
   "metadata": {},
   "outputs": [],
   "source": [
    "#function to load in the different columns from the dataset to make it easier to get our relevant variables\n",
    "def load_data(column, data_type=float):\n",
    "    credit_card_data = np.loadtxt(r'C:\\Users\\jpink\\OneDrive\\Desktop\\BMGT404\\HW2-credit-card-consumers.csv', skiprows=1, usecols=column, delimiter=',', dtype=data_type)\n",
    "    return credit_card_data"
   ]
  },
  {
   "cell_type": "markdown",
   "id": "0911e1b5-5c29-49c2-97df-0e0dab08596a",
   "metadata": {},
   "source": [
    "4. Determine and print the frequency value and percentage for each level of education\n",
    "\n",
    "I am very curious to know about our clientele's background, and understanding their education background is a good place to start. Now, we get a closer look at who our customers are. This can give me insights on intelligence, socioeconomic background, and potential salaries of my customer base."
   ]
  },
  {
   "cell_type": "code",
   "execution_count": 9,
   "id": "9042a0ea-9390-4518-a197-0e523aeed2b6",
   "metadata": {},
   "outputs": [
    {
     "name": "stdout",
     "output_type": "stream",
     "text": [
      "Education Level Frequencies:\n",
      "Uneducated\tHigh School\tCollege\t\tPost-Grad\tGraduate\tDoctorate\tUnknown\n",
      "1487\t\t2013\t\t1013\t\t516\t\t3128\t\t451\t\t1519\n",
      "\n",
      "\n",
      "Education Level Percentages:\n",
      "Uneducated\tHigh School\tCollege\t\tPost-Grad\tGraduate\tDoctorate\tUnknown\n",
      "14.68%\t\t19.88%\t\t10.00%\t\t5.10%\t\t30.89%\t\t4.45%\t\t15.00%\n"
     ]
    }
   ],
   "source": [
    "#load in relevant dataset\n",
    "education = load_data(5, \"str\")\n",
    "\n",
    "#find the sum of all education levels\n",
    "hs_counts = (education == \"High School\").sum()\n",
    "graduate_counts = (education == \"Graduate\").sum()\n",
    "college_count = (education == \"College\").sum()\n",
    "unknown_count = (education == \"Unknown\").sum()\n",
    "uneducated_count = (education == \"Uneducated\").sum()\n",
    "post_grad_count = (education == \"Post-Graduate\").sum()\n",
    "doctorate_count = (education == \"Doctorate\").sum()\n",
    "\n",
    "#print a well-formatted table of the education level frequencies\n",
    "print(\"Education Level Frequencies:\")\n",
    "print(f\"Uneducated\\tHigh School\\tCollege\\t\\tPost-Grad\\tGraduate\\tDoctorate\\tUnknown\")\n",
    "print(f\"{uneducated_count}\\t\\t{hs_counts}\\t\\t{college_count}\\t\\t{post_grad_count}\\t\\t{graduate_counts}\\t\\t{doctorate_count}\\t\\t{unknown_count}\")\n",
    "print(\"\\n\")\n",
    "\n",
    "#find the percentage of customers in each level of education\n",
    "hs_percent = (hs_counts/cust_count)*100\n",
    "grad_percent = (graduate_counts/cust_count)*100\n",
    "coll_percent = (college_count/cust_count)*100\n",
    "unknown_percent = (unknown_count/cust_count)*100\n",
    "uned_percent = (uneducated_count/cust_count)*100\n",
    "pg_percent = (post_grad_count/cust_count)*100\n",
    "doc_percent = (doctorate_count/cust_count)*100\n",
    "\n",
    "#print a well formatted table of education level percentages\n",
    "print(\"Education Level Percentages:\")\n",
    "print(f\"Uneducated\\tHigh School\\tCollege\\t\\tPost-Grad\\tGraduate\\tDoctorate\\tUnknown\")\n",
    "print(f\"{uned_percent:.2f}%\\t\\t{hs_percent:.2f}%\\t\\t{coll_percent:.2f}%\\t\\t{pg_percent:.2f}%\\t\\t{grad_percent:.2f}%\\t\\t{doc_percent:.2f}%\\t\\t{unknown_percent:.2f}%\")\n"
   ]
  },
  {
   "cell_type": "markdown",
   "id": "4ba07cad-d21e-41db-8066-830779bfbc31",
   "metadata": {},
   "source": [
    "5. From the resulting answer from #4, what inference can you make about the level of education for the\n",
    "bank's customers?"
   ]
  },
  {
   "cell_type": "markdown",
   "id": "59db5867-4bf0-4487-9c9f-484aafc9f94f",
   "metadata": {},
   "source": [
    "Based on the results, the highest percentage of customers have a graduate degree. This tells us that the customer's are highly educated and because of the level degree they have, they might make stronger salaries than if they just had undergraduate degrees. "
   ]
  },
  {
   "cell_type": "markdown",
   "id": "59fc2196-9d21-450b-af34-6f77ffc44464",
   "metadata": {},
   "source": [
    "6. Management has a perception of gender inequities in the customer base. Does the data support this perception?\n",
    "\n",
    "It is important to know that TS&L serves across all identites. That includes gender! It is also important to make sure that there is a even distribution of customers, no matter their gender. Below, we will figure out whether or not we have gender inequities in our customer population."
   ]
  },
  {
   "cell_type": "code",
   "execution_count": 10,
   "id": "10da71d5-5d50-40db-894e-6a3649b5db55",
   "metadata": {},
   "outputs": [
    {
     "name": "stdout",
     "output_type": "stream",
     "text": [
      "In the dataset, 4769 customers are males, which is 47.09%, and 5358 customers are females, which is 52.91%\n"
     ]
    }
   ],
   "source": [
    "#load in the correct variable\n",
    "gender = load_data(3, \"str\")\n",
    "\n",
    "#find the count of male customers and female customers in the dataset\n",
    "male_count = (gender == 'M').sum()\n",
    "female_count = (gender == 'F').sum()\n",
    "\n",
    "#using the male/female count, we will find the percentage of how much each gender is represented by the bank\n",
    "male_percentage = (male_count/cust_count)*100\n",
    "female_percentage = (female_count/cust_count)*100\n",
    "\n",
    "print(f\"In the dataset, {male_count} customers are males, which is {male_percentage:.2f}%, and {female_count} customers are females, which is {female_percentage:.2f}%\")"
   ]
  },
  {
   "cell_type": "markdown",
   "id": "228f1265-848c-44af-a9e5-0b32ad85f4b2",
   "metadata": {},
   "source": [
    "Based on the data above, the perception is not completely accurate. There is a pretty reasonable spread of male and female customers at Terp Savings & Loans, with 47% of customers being male and 53% being female. Since there is just a 3% difference from being a 50/50 spread, I would say that Terp Savings & Loans has a great ratio between male and female customers using their bank."
   ]
  },
  {
   "cell_type": "markdown",
   "id": "2319128a-6a20-4e61-a37a-a8d2b088acce",
   "metadata": {},
   "source": [
    "7. Customers utilizing their credit, on average, less than 20% or greater than 80% pose a risk to the bank's\n",
    "operations. What percentage of customers fall into this population? Explain why the bank may feel\n",
    "there is a risk in this population. Then, using your explanation, what can you infer from the data?\n",
    "\n",
    "As a bank, we want to help our customers do well and we also want to do well from how our customers utilize our bank. A way to understand this is by looking at average utilization ratios, which basically shows us how much our customers spend based on their credit limit. We look for a lower ratio, but not too low. Lets find out how our customers are utilizing their credit. "
   ]
  },
  {
   "cell_type": "code",
   "execution_count": 11,
   "id": "25199655-d0a9-49a3-b2f9-1e251636bc41",
   "metadata": {},
   "outputs": [
    {
     "name": "stdout",
     "output_type": "stream",
     "text": [
      "52.67% of customers utilize their credit less than 20%\n",
      "\n",
      "\n",
      "4.61% of customers utilize their credit more than 80%\n",
      "\n",
      "\n",
      "In total, 57.28% of customers pose a risk to the banks operation because of their average utilization ratios \n"
     ]
    }
   ],
   "source": [
    "#load in the correct variable\n",
    "util_ratio = load_data(19)\n",
    "\n",
    "#find the count of customers that have a low utilization ratio, then the count of customers with a high utilization ratio\n",
    "low_ratio = (util_ratio < .20).sum()\n",
    "high_ratio = (util_ratio > .80).sum()\n",
    "\n",
    "#using those counts, we find what percentage of customers have low/high utilization ratios, and the total percent between the two\n",
    "low_percent = (low_ratio/cust_count)*100\n",
    "high_percent = (high_ratio/cust_count)*100\n",
    "total_percent = low_percent+high_percent\n",
    "\n",
    "print(f\"{low_percent:.2f}% of customers utilize their credit less than 20%\")\n",
    "print(\"\\n\")\n",
    "print(f\"{high_percent:.2f}% of customers utilize their credit more than 80%\")\n",
    "print(\"\\n\")\n",
    "print(f\"In total, {total_percent:.2f}% of customers pose a risk to the banks operation because of their average utilization ratios \")"
   ]
  },
  {
   "cell_type": "markdown",
   "id": "43369113-a553-4d38-b404-04b723f166eb",
   "metadata": {},
   "source": [
    "Terp Savings & Loans feels risk among these customer's utilization ratios because it impacts their credit scores and how the bank can handle one's money. For one, a high utilization ratio might indicate irresponible use of the credit available to them. Further, those who have very low utilization ratios may not be using their alloted credit enough, which also can be harmful to the bank they use and their credit. The more balanced a utilization ratio is, the better, for both the bank and the customer. "
   ]
  },
  {
   "cell_type": "markdown",
   "id": "713a07bb-d788-49e0-9ca4-121fca26181d",
   "metadata": {},
   "source": [
    "Based on the data, 57% of customers pose a risk to Terp Savings & Loans' operations because of their utilization ratios. Having a high utilization score (above 80%) is more harmful, and only 4.6% of customers are in that range, which is good. Though, 52% have a low utilization score, which is not perfect either. The 52% that have a low utilization score should focus on reaching at least 20% of their alloted credit every month in order to (potentially) improve their credit score, as well as help the bank that supports their credit. "
   ]
  },
  {
   "cell_type": "markdown",
   "id": "605dd0a8-32fc-4377-9a7b-8039f34e7a46",
   "metadata": {},
   "source": [
    "8. Management wants to put out an ad campaign to attract new customers. Which income range should\n",
    "they target? Why?\n",
    "\n",
    "TS&L wants to reach all customers across all incomes. College Park is a diverse area and we can hopefully reach as wide a range as possible. Our marketing team is relying on me to provide them with insights on which income ranges they should focus on."
   ]
  },
  {
   "cell_type": "code",
   "execution_count": 12,
   "id": "8b405c77-ef34-4b24-8370-b4bafa9f1f58",
   "metadata": {},
   "outputs": [
    {
     "name": "stdout",
     "output_type": "stream",
     "text": [
      "Income Range Frequencies:\n",
      "Unknown\t\tLess than $40K\t\t$40K - $60K\t\t$60K - $80K\t$80K - $120K\t$120K +\n",
      "1112\t\t3561\t\t\t1790\t\t\t1402\t\t1535\t\t727\n",
      "\n",
      "\n",
      "Income Range Percentages:\n",
      "Unknown\t\tLess than $40K\t\t$40K - $60K\t\t$60K - $80K\t$80K - $120K\t$120K +\n",
      "10.98%\t\t35.16%\t\t\t17.68%\t\t\t13.84%\t\t15.16%\t\t7.18%\n"
     ]
    }
   ],
   "source": [
    "#load in relevant dataset\n",
    "income_range = load_data(7, \"str\")\n",
    "\n",
    "#find the sum of all income ranges\n",
    "unknown = (income_range == \"Unknown\").sum()\n",
    "lowest_range = (income_range == \"Less than $40K\").sum()\n",
    "lower_mid_range = (income_range == \"$40K - $60K\").sum()\n",
    "mid_range = (income_range == \"$60K - $80K\").sum()\n",
    "higher_mid_range = (income_range == \"$80K - $120K\").sum()\n",
    "highest_range = (income_range == \"$120K +\").sum()\n",
    "\n",
    "#print a well-formatted table of the income range frequencies\n",
    "print(\"Income Range Frequencies:\")\n",
    "print(f\"Unknown\\t\\tLess than $40K\\t\\t$40K - $60K\\t\\t$60K - $80K\\t$80K - $120K\\t$120K +\")\n",
    "print(f\"{unknown}\\t\\t{lowest_range}\\t\\t\\t{lower_mid_range}\\t\\t\\t{mid_range}\\t\\t{higher_mid_range}\\t\\t{highest_range}\")\n",
    "print(\"\\n\")\n",
    "\n",
    "#find the percentage of customers in each income range\n",
    "unknownP = (unknown/cust_count)*100\n",
    "lowest_percent = (lowest_range/cust_count)*100\n",
    "low_mid_percent = (lower_mid_range/cust_count)*100\n",
    "mid_percent = (mid_range/cust_count)*100\n",
    "high_mid_percent = (higher_mid_range/cust_count)*100\n",
    "highest_percent = (highest_range/cust_count)*100\n",
    "\n",
    "#print a well formatted table of income range percentages\n",
    "print(\"Income Range Percentages:\")\n",
    "print(f\"Unknown\\t\\tLess than $40K\\t\\t$40K - $60K\\t\\t$60K - $80K\\t$80K - $120K\\t$120K +\")\n",
    "print(f\"{unknownP:.2f}%\\t\\t{lowest_percent:.2f}%\\t\\t\\t{low_mid_percent:.2f}%\\t\\t\\t{mid_percent:.2f}%\\t\\t{high_mid_percent:.2f}%\\t\\t{highest_percent:.2f}%\")\n"
   ]
  },
  {
   "cell_type": "markdown",
   "id": "9a6ee1fa-861b-469d-b78b-869c10dfbde5",
   "metadata": {},
   "source": [
    "Based on the data above, the income ranges that should be targeted is $120,000 and above. 35% of the customer base makes less than 40,000 dollars a year, which tells us that getting customers with higher incomes would be beneficial to Terp Savings & Loans. Only 7% of customers have incomes above 120,000 dollars, and reaching that income range and growing it will help diversify the income ranges the bank reaches. "
   ]
  },
  {
   "cell_type": "markdown",
   "id": "c782fc41-cc16-40e5-882b-1279c6e05970",
   "metadata": {},
   "source": [
    "9. Create a data visualization displaying customer age vs. number of customers of that age\n",
    "\n",
    "Numerical python is cool... but being able to visualize all my hard work and my clientele is pretty cool, too. Now, I am going to create some graphs that gives insight on our customers ages. Lets see what age loves TS&L more than the rest!"
   ]
  },
  {
   "cell_type": "code",
   "execution_count": 13,
   "id": "f9d8b7db-8a6f-4f0c-ab44-0d72fd527d8c",
   "metadata": {},
   "outputs": [
    {
     "data": {
      "image/png": "[encoded data removed]",
      "text/plain": [
       "<Figure size 640x480 with 1 Axes>"
      ]
     },
     "metadata": {},
     "output_type": "display_data"
    }
   ],
   "source": [
    "#line graph using matplotlib\n",
    "#load in relevant data\n",
    "cust_age = load_data(2)\n",
    "\n",
    "#get the customer ages and return the counts for the frequencies of those ages\n",
    "unique_ages, age_counts = np.unique(cust_age, return_counts=True)\n",
    "\n",
    "#y will be numbers of customers that age (frequency)\n",
    "#x will be customer age (values)\n",
    "x = unique_ages\n",
    "y = age_counts\n",
    "\n",
    "#graph labels and aesthetics\n",
    "plt.title('Customer Age Frequencies')\n",
    "plt.xlabel('Customer Age')\n",
    "plt.ylabel('Number of Customers per age')\n",
    "plt.plot(x, y, color='hotpink')\n",
    "plt.show()"
   ]
  },
  {
   "cell_type": "code",
   "execution_count": 14,
   "id": "20ff5a78-cbfe-4580-9d52-3f40441749fe",
   "metadata": {},
   "outputs": [
    {
     "data": {
      "text/plain": [
       "[Text(0.5, 0, 'Customer Age'), Text(0, 0.5, 'Number of Customers Per Age')]"
      ]
     },
     "execution_count": 14,
     "metadata": {},
     "output_type": "execute_result"
    },
    {
     "data": {
      "image/png": "[encoded data removed]",
      "text/plain": [
       "<Figure size 640x480 with 1 Axes>"
      ]
     },
     "metadata": {},
     "output_type": "display_data"
    }
   ],
   "source": [
    "#now we will create a barplot using seaborn!\n",
    "\n",
    "#graph labels/titles and aesthetics, using variables declared in previous cell\n",
    "sns.set_style(\"darkgrid\")\n",
    "axes = sns.barplot(x = unique_ages, y = age_counts, palette = \"BuPu\")\n",
    "axes.set_title(\"Customer Age Frequencies\")\n",
    "axes.set(xlabel =\"Customer Age\", ylabel = \"Number of Customers Per Age\")"
   ]
  },
  {
   "cell_type": "markdown",
   "id": "2e1d7963-5f77-47b3-afae-1d3a36177582",
   "metadata": {},
   "source": [
    "10. From the resulting data visualization from #9, what inference can you make about the age of the\n",
    "customer base?\n",
    "\n",
    "\n",
    "Based on the visualizations made in problem #9, there is a normal distribution of customers that use Terp Savings & Loans. Further, the average customer age is likely between 40 and 50 years old, which we can tell by the shape of the distribution. The ages range from mid-twenties to early-seventies, but the majority of people that use Terp Savings & Loans are between 40 and 50 years old.  "
   ]
  },
  {
   "cell_type": "markdown",
   "id": "ca42cca0-951a-46ec-ade3-64e3addeee78",
   "metadata": {},
   "source": [
    "\"I pledge on my honor that I have not given nor received any unauthorized\n",
    "assistance on this assignment.\"\n",
    "\n",
    "\n",
    "Jordan Pinkava"
   ]
  }
 ],
 "metadata": {
  "kernelspec": {
   "display_name": "Python 3 (ipykernel)",
   "language": "python",
   "name": "python3"
  },
  "language_info": {
   "codemirror_mode": {
    "name": "ipython",
    "version": 3
   },
   "file_extension": ".py",
   "mimetype": "text/x-python",
   "name": "python",
   "nbconvert_exporter": "python",
   "pygments_lexer": "ipython3",
   "version": "3.9.13"
  }
 },
 "nbformat": 4,
 "nbformat_minor": 5
}
